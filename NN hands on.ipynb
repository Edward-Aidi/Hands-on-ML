{
 "cells": [
  {
   "cell_type": "code",
   "execution_count": 4,
   "metadata": {},
   "outputs": [],
   "source": [
    "import pandas as pd\n",
    "import tensorflow as tf\n",
    "from tensorflow import keras\n",
    "\n",
    "# If you encounter any issue, then try the code below to run in terminal and fix it\n",
    "# open /Applications/Python\\ 3.7/Install\\ Certificates.command\n",
    "fashion_mnist = keras.datasets.fashion_mnist\n",
    "(X_train_full, y_train_full), (X_test, y_test) = fashion_mnist.load_data()"
   ]
  },
  {
   "cell_type": "code",
   "execution_count": 5,
   "metadata": {},
   "outputs": [
    {
     "data": {
      "text/plain": [
       "(60000, 28, 28)"
      ]
     },
     "execution_count": 5,
     "metadata": {},
     "output_type": "execute_result"
    }
   ],
   "source": [
    "X_train_full.shape"
   ]
  },
  {
   "cell_type": "code",
   "execution_count": 6,
   "metadata": {},
   "outputs": [
    {
     "data": {
      "text/plain": [
       "dtype('uint8')"
      ]
     },
     "execution_count": 6,
     "metadata": {},
     "output_type": "execute_result"
    }
   ],
   "source": [
    "X_train_full.dtype"
   ]
  },
  {
   "cell_type": "code",
   "execution_count": 8,
   "metadata": {},
   "outputs": [],
   "source": [
    "X_valid, X_train = X_train_full[:5000] / 255.0, X_train_full[5000:] / 255.0\n",
    "y_valid, y_train = y_train_full[:5000], y_train_full[5000:]"
   ]
  },
  {
   "cell_type": "code",
   "execution_count": 9,
   "metadata": {},
   "outputs": [],
   "source": [
    "class_names = [\"T-shirt/top\", \"Trouser\", \"Pullover\", \"Dress\", \"Coat\",\n",
    "               \"Sandal\", \"Shirt\", \"Sneaker\", \"Bag\", \"Ankle boot\"]"
   ]
  },
  {
   "cell_type": "code",
   "execution_count": 10,
   "metadata": {},
   "outputs": [
    {
     "data": {
      "text/plain": [
       "'Coat'"
      ]
     },
     "execution_count": 10,
     "metadata": {},
     "output_type": "execute_result"
    }
   ],
   "source": [
    "class_names[y_train[0]]"
   ]
  },
  {
   "cell_type": "code",
   "execution_count": 11,
   "metadata": {},
   "outputs": [],
   "source": [
    "model = keras.models.Sequential()\n",
    "model.add(keras.layers.Flatten(input_shape=[28, 28]))\n",
    "model.add(keras.layers.Dense(300, activation=\"relu\"))\n",
    "model.add(keras.layers.Dense(100, activation=\"relu\"))\n",
    "model.add(keras.layers.Dense(10, activation=\"softmax\"))\n",
    "\n",
    "# Equivalent to the structure below\n",
    "# model = keras.models.Sequential([\n",
    "#     keras.layers.Flatten(input_shape=[28, 28]),\n",
    "#     keras.layers.Dense(300, activation=\"relu\"),\n",
    "#     keras.layers.Dense(100, activation=\"relu\"),\n",
    "#     keras.layers.Dense(10, activation=\"softmax\")\n",
    "# ])"
   ]
  },
  {
   "cell_type": "code",
   "execution_count": 12,
   "metadata": {},
   "outputs": [
    {
     "name": "stdout",
     "output_type": "stream",
     "text": [
      "Model: \"sequential\"\n",
      "_________________________________________________________________\n",
      "Layer (type)                 Output Shape              Param #   \n",
      "=================================================================\n",
      "flatten (Flatten)            (None, 784)               0         \n",
      "_________________________________________________________________\n",
      "dense (Dense)                (None, 300)               235500    \n",
      "_________________________________________________________________\n",
      "dense_1 (Dense)              (None, 100)               30100     \n",
      "_________________________________________________________________\n",
      "dense_2 (Dense)              (None, 10)                1010      \n",
      "=================================================================\n",
      "Total params: 266,610\n",
      "Trainable params: 266,610\n",
      "Non-trainable params: 0\n",
      "_________________________________________________________________\n"
     ]
    }
   ],
   "source": [
    "model.summary()"
   ]
  },
  {
   "cell_type": "code",
   "execution_count": 13,
   "metadata": {},
   "outputs": [],
   "source": [
    "model.compile(loss=\"sparse_categorical_crossentropy\",\n",
    "              optimizer=\"sgd\",\n",
    "              metrics=[\"accuracy\"])"
   ]
  },
  {
   "cell_type": "code",
   "execution_count": 14,
   "metadata": {
    "scrolled": true
   },
   "outputs": [
    {
     "name": "stdout",
     "output_type": "stream",
     "text": [
      "Train on 55000 samples, validate on 5000 samples\n",
      "Epoch 1/30\n",
      "55000/55000 [==============================] - 5s 91us/sample - loss: 0.7149 - accuracy: 0.7665 - val_loss: 0.4867 - val_accuracy: 0.8392\n",
      "Epoch 2/30\n",
      "55000/55000 [==============================] - 4s 77us/sample - loss: 0.4848 - accuracy: 0.8298 - val_loss: 0.4382 - val_accuracy: 0.8554\n",
      "Epoch 3/30\n",
      "55000/55000 [==============================] - 4s 80us/sample - loss: 0.4412 - accuracy: 0.8454 - val_loss: 0.4103 - val_accuracy: 0.8554\n",
      "Epoch 4/30\n",
      "55000/55000 [==============================] - 4s 80us/sample - loss: 0.4127 - accuracy: 0.8541 - val_loss: 0.4268 - val_accuracy: 0.8470\n",
      "Epoch 5/30\n",
      "55000/55000 [==============================] - 4s 78us/sample - loss: 0.3938 - accuracy: 0.8620 - val_loss: 0.3843 - val_accuracy: 0.8692\n",
      "Epoch 6/30\n",
      "55000/55000 [==============================] - 4s 78us/sample - loss: 0.3776 - accuracy: 0.8677 - val_loss: 0.3797 - val_accuracy: 0.8674\n",
      "Epoch 7/30\n",
      "55000/55000 [==============================] - 4s 78us/sample - loss: 0.3645 - accuracy: 0.8712 - val_loss: 0.3806 - val_accuracy: 0.8658\n",
      "Epoch 8/30\n",
      "55000/55000 [==============================] - 4s 79us/sample - loss: 0.3524 - accuracy: 0.8747 - val_loss: 0.3560 - val_accuracy: 0.8770\n",
      "Epoch 9/30\n",
      "55000/55000 [==============================] - 4s 73us/sample - loss: 0.3431 - accuracy: 0.8776 - val_loss: 0.3611 - val_accuracy: 0.8744\n",
      "Epoch 10/30\n",
      "55000/55000 [==============================] - 4s 73us/sample - loss: 0.3341 - accuracy: 0.8810 - val_loss: 0.3740 - val_accuracy: 0.8680\n",
      "Epoch 11/30\n",
      "55000/55000 [==============================] - 4s 74us/sample - loss: 0.3251 - accuracy: 0.8845 - val_loss: 0.3336 - val_accuracy: 0.8828\n",
      "Epoch 12/30\n",
      "55000/55000 [==============================] - 4s 73us/sample - loss: 0.3178 - accuracy: 0.8868 - val_loss: 0.3321 - val_accuracy: 0.8808\n",
      "Epoch 13/30\n",
      "55000/55000 [==============================] - 4s 74us/sample - loss: 0.3094 - accuracy: 0.8895 - val_loss: 0.3243 - val_accuracy: 0.8836\n",
      "Epoch 14/30\n",
      "55000/55000 [==============================] - 4s 75us/sample - loss: 0.3025 - accuracy: 0.8926 - val_loss: 0.3193 - val_accuracy: 0.8894\n",
      "Epoch 15/30\n",
      "55000/55000 [==============================] - 4s 78us/sample - loss: 0.2963 - accuracy: 0.8937 - val_loss: 0.3346 - val_accuracy: 0.8808\n",
      "Epoch 16/30\n",
      "55000/55000 [==============================] - 5s 84us/sample - loss: 0.2912 - accuracy: 0.8964 - val_loss: 0.3295 - val_accuracy: 0.8860\n",
      "Epoch 17/30\n",
      "55000/55000 [==============================] - 4s 76us/sample - loss: 0.2846 - accuracy: 0.8978 - val_loss: 0.3159 - val_accuracy: 0.8892\n",
      "Epoch 18/30\n",
      "55000/55000 [==============================] - 4s 76us/sample - loss: 0.2782 - accuracy: 0.9004 - val_loss: 0.3233 - val_accuracy: 0.8822\n",
      "Epoch 19/30\n",
      "55000/55000 [==============================] - 4s 79us/sample - loss: 0.2736 - accuracy: 0.9020 - val_loss: 0.3031 - val_accuracy: 0.8910\n",
      "Epoch 20/30\n",
      "55000/55000 [==============================] - 4s 79us/sample - loss: 0.2686 - accuracy: 0.9045 - val_loss: 0.3091 - val_accuracy: 0.8914\n",
      "Epoch 21/30\n",
      "55000/55000 [==============================] - 4s 79us/sample - loss: 0.2630 - accuracy: 0.9054 - val_loss: 0.3089 - val_accuracy: 0.8890\n",
      "Epoch 22/30\n",
      "55000/55000 [==============================] - 4s 79us/sample - loss: 0.2595 - accuracy: 0.9063 - val_loss: 0.3084 - val_accuracy: 0.8922\n",
      "Epoch 23/30\n",
      "55000/55000 [==============================] - 4s 78us/sample - loss: 0.2550 - accuracy: 0.9093 - val_loss: 0.2951 - val_accuracy: 0.8956\n",
      "Epoch 24/30\n",
      "55000/55000 [==============================] - 6s 100us/sample - loss: 0.2498 - accuracy: 0.9103 - val_loss: 0.3122 - val_accuracy: 0.8862\n",
      "Epoch 25/30\n",
      "55000/55000 [==============================] - 4s 78us/sample - loss: 0.2458 - accuracy: 0.9121 - val_loss: 0.3131 - val_accuracy: 0.8894\n",
      "Epoch 26/30\n",
      "55000/55000 [==============================] - 4s 80us/sample - loss: 0.2418 - accuracy: 0.9126 - val_loss: 0.3029 - val_accuracy: 0.8908\n",
      "Epoch 27/30\n",
      "55000/55000 [==============================] - 4s 76us/sample - loss: 0.2380 - accuracy: 0.9137 - val_loss: 0.2938 - val_accuracy: 0.8948\n",
      "Epoch 28/30\n",
      "55000/55000 [==============================] - 4s 76us/sample - loss: 0.2334 - accuracy: 0.9151 - val_loss: 0.2921 - val_accuracy: 0.8952\n",
      "Epoch 29/30\n",
      "55000/55000 [==============================] - 4s 76us/sample - loss: 0.2299 - accuracy: 0.9165 - val_loss: 0.2984 - val_accuracy: 0.8930\n",
      "Epoch 30/30\n",
      "55000/55000 [==============================] - 4s 77us/sample - loss: 0.2258 - accuracy: 0.9183 - val_loss: 0.2966 - val_accuracy: 0.8948\n"
     ]
    }
   ],
   "source": [
    "history = model.fit(X_train, y_train, epochs=30, validation_data=(X_valid, y_valid))"
   ]
  },
  {
   "cell_type": "code",
   "execution_count": null,
   "metadata": {},
   "outputs": [],
   "source": []
  }
 ],
 "metadata": {
  "kernelspec": {
   "display_name": "Python 3",
   "language": "python",
   "name": "python3"
  },
  "language_info": {
   "codemirror_mode": {
    "name": "ipython",
    "version": 3
   },
   "file_extension": ".py",
   "mimetype": "text/x-python",
   "name": "python",
   "nbconvert_exporter": "python",
   "pygments_lexer": "ipython3",
   "version": "3.7.2"
  }
 },
 "nbformat": 4,
 "nbformat_minor": 2
}
